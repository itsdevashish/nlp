{
  "nbformat": 4,
  "nbformat_minor": 0,
  "metadata": {
    "colab": {
      "provenance": []
    },
    "kernelspec": {
      "name": "python3",
      "display_name": "Python 3"
    },
    "language_info": {
      "name": "python"
    }
  },
  "cells": [
    {
      "cell_type": "code",
      "execution_count": 1,
      "metadata": {
        "colab": {
          "base_uri": "https://localhost:8080/"
        },
        "id": "pNX44stFPNRF",
        "outputId": "b32c43ec-9511-45c4-89d8-d5634ec37abf"
      },
      "outputs": [
        {
          "output_type": "stream",
          "name": "stderr",
          "text": [
            "[nltk_data] Downloading package wordnet to /root/nltk_data...\n",
            "[nltk_data] Downloading package omw-1.4 to /root/nltk_data...\n"
          ]
        },
        {
          "output_type": "stream",
          "name": "stdout",
          "text": [
            "Word         | POS        | Stem       | Lemma\n",
            "--------------------------------------------------\n",
            "playing      | Verb       | play       | play\n",
            "happily      | Adverb     | happili    | happily\n",
            "governed     | Verb       | govern     | govern\n",
            "nationally   | Adverb     | nation     | nationally\n",
            "running      | Verb       | run        | run\n",
            "kindness     | Noun       | kind       | kindness\n"
          ]
        }
      ],
      "source": [
        "import nltk\n",
        "from nltk.stem import PorterStemmer, WordNetLemmatizer\n",
        "from nltk.corpus import wordnet\n",
        "\n",
        "# Download required data (only once)\n",
        "nltk.download('wordnet')\n",
        "nltk.download('omw-1.4')\n",
        "\n",
        "# Initialize stemmer and lemmatizer\n",
        "stemmer = PorterStemmer()\n",
        "lemmatizer = WordNetLemmatizer()\n",
        "\n",
        "# Sample words and their POS tags ('v' = verb, 'n' = noun, 'a' = adjective, 'r' = adverb)\n",
        "words_with_pos = [\n",
        "    (\"playing\", \"v\"),\n",
        "    (\"happily\", \"r\"),\n",
        "    (\"governed\", \"v\"),\n",
        "    (\"nationally\", \"r\"),\n",
        "    (\"running\", \"v\"),\n",
        "    (\"kindness\", \"n\")\n",
        "]\n",
        "\n",
        "# Mapping POS tags to full names\n",
        "pos_full = {\n",
        "    \"v\": \"Verb\",\n",
        "    \"n\": \"Noun\",\n",
        "    \"a\": \"Adjective\",\n",
        "    \"r\": \"Adverb\"\n",
        "}\n",
        "\n",
        "# Morphological Analysis Table\n",
        "print(f\"{'Word':<12} | {'POS':<10} | {'Stem':<10} | {'Lemma'}\")\n",
        "print(\"-\" * 50)\n",
        "for word, pos in words_with_pos:\n",
        "    stem = stemmer.stem(word)\n",
        "    lemma = lemmatizer.lemmatize(word, pos=pos)\n",
        "    print(f\"{word:<12} | {pos_full[pos]:<10} | {stem:<10} | {lemma}\")\n"
      ]
    }
  ]
}